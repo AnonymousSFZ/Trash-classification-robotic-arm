{
 "cells": [
  {
   "cell_type": "markdown",
   "metadata": {},
   "source": [
    "### 图像处理方法（Hough 直线识别）"
   ]
  },
  {
   "cell_type": "code",
   "execution_count": null,
   "metadata": {
    "scrolled": false
   },
   "outputs": [],
   "source": [
    "# -*- coding: UTF-8 -*-\n",
    "import cv2, math\n",
    "import numpy as np\n",
    "\n",
    "DIR = 'samples\\\\'\n",
    "ANGLE_RANGE = (-math.pi/6, math.pi/6)\n",
    "\n",
    "# 图象预处理\n",
    "img = cv2.imread( DIR + 'pic (1).jpg')\n",
    "gray = cv2.cvtColor(img,cv2.COLOR_BGR2GRAY)\n",
    "blur = cv2.GaussianBlur(gray,(5,5),0)\n",
    "edges = cv2.Canny(blur,80,150,apertureSize = 3)\n",
    "canny = np.uint8(np.absolute(edges))\n",
    "\n",
    "# 直线识别\n",
    "lines = cv2.HoughLinesP(edges,1,np.pi/180,threshold = 100, minLineLength = 10,maxLineGap = 100)\n",
    "for line in lines:\n",
    "    for x1,y1,x2,y2 in line:\n",
    "        # 尝试忽略横向直线\n",
    "        if abs(x1 - x2) != 0:\n",
    "            slope = (y1 - y2) / (x1 - x2)\n",
    "            if slope > math.tan(ANGLE_RANGE[0]) and slope < math.tan(ANGLE_RANGE[1]):\n",
    "                continue\n",
    "        cv2.line(img,(x1,y1),(x2,y2),(0,255,0),2)\n",
    "        \n",
    "height, width, channels = img.shape\n",
    "if height > 600:\n",
    "    ratio = 600 / height\n",
    "    img = cv2.resize(img, (0,0), fx=ratio, fy=ratio) \n",
    "cv2.imshow('houghlines5.jpg',img)\n",
    "cv2.waitKey(0)\n",
    "cv2.destroyAllWindows()"
   ]
  },
  {
   "cell_type": "markdown",
   "metadata": {},
   "source": [
    "### 图片高度等比缩小至指定值 默认为600pixel"
   ]
  },
  {
   "cell_type": "code",
   "execution_count": 11,
   "metadata": {
    "scrolled": false
   },
   "outputs": [],
   "source": [
    "# -*- coding: UTF-8 -*-\n",
    "import cv2\n",
    "from os import listdir\n",
    "from os.path import isfile, join\n",
    "\n",
    "mypath = r'Images\\004(crop)'\n",
    "onlyfiles = [f for f in listdir(mypath) if isfile(join(mypath, f))]\n",
    "for file in onlyfiles:\n",
    "    img = cv2.imread(mypath + '\\\\' +  file)\n",
    "    img = cv2.resize(img, (450, 600)) \n",
    "    cv2.imwrite(mypath + '\\\\' +  file.split('.')[0] + '.jpg', img)"
   ]
  },
  {
   "cell_type": "markdown",
   "metadata": {},
   "source": [
    "### BBox-Label -> YOLO dataset format"
   ]
  },
  {
   "cell_type": "code",
   "execution_count": 1,
   "metadata": {
    "scrolled": false
   },
   "outputs": [],
   "source": [
    "# -*- coding: UTF-8 -*-\n",
    "import re\n",
    "from os import listdir\n",
    "from os.path import isfile, join, exists\n",
    "\n",
    "# CHANGE TO YOUR OWN DIRECTORY\n",
    "label_src = r'Labels\\001'\n",
    "image_src = r'Images\\001'\n",
    "# CHANGE TO UNIX IF YOU'RE USING MAC OR LINUX\n",
    "file_path_format = 'WIN' # possible values('UNIX','WIN')\n",
    "\n",
    "if file_path_format == 'WIN':\n",
    "    slash = '\\\\'\n",
    "elif file_path_format == 'UNIX':\n",
    "    slash = '/'\n",
    "else:\n",
    "    raise ValueError('Invalid value for file_path_format')\n",
    "    \n",
    "dst = label_src + '(YOLO).txt'\n",
    "fdst = open(dst, 'w')\n",
    "onlyfiles = [f for f in listdir(label_src) if isfile(join(label_src, f))]\n",
    "\n",
    "for file in onlyfiles:\n",
    "    fsrc = open(label_src + '\\\\' + file)\n",
    "    outputString = ''\n",
    "    for line in fsrc.readlines():\n",
    "        numbers = line.split()\n",
    "        if len(numbers) == 1:\n",
    "            continue\n",
    "        for number in numbers:\n",
    "            outputString += '%d,' % int(number)\n",
    "        outputString += '%d ' % 0\n",
    "    fsrc.close()\n",
    "    output = image_src + '\\\\' + file.split('.')[0] + '.jpg ' + outputString\n",
    "    fdst.write(output + '\\n')\n",
    "    if not re.match(r'.*(crop\\d).*', file.split('.')[0]):\n",
    "        for trans in ['(bright30)', '(dark30)', '(gauss)']:\n",
    "            output = image_src + trans + '\\\\' + file.split('.')[0] + trans + '.jpg ' + outputString\n",
    "            fdst.write(output + '\\n')\n",
    "fdst.close()"
   ]
  },
  {
   "cell_type": "markdown",
   "metadata": {},
   "source": [
    "### 数据扩充（镜像、高斯模糊）"
   ]
  },
  {
   "cell_type": "code",
   "execution_count": 1,
   "metadata": {
    "scrolled": false
   },
   "outputs": [],
   "source": [
    "# -*- coding: UTF-8 -*-\n",
    "import cv2, re\n",
    "import numpy as np\n",
    "from os import listdir, mkdir\n",
    "from os.path import isfile, join, exists\n",
    "\n",
    "# IMAGE SOURCE AND DESTINATION\n",
    "src_dir = r'RealSenseCamera'\n",
    "\n",
    "# def add_gauss_noise(image, mean=0, var=0.001):\n",
    "#     image = np.array(image/255, dtype=float)\n",
    "#     noise = np.random.normal(mean, var ** 0.5, image.shape)\n",
    "#     out = image + noise\n",
    "#     low_clip = -1. if out.min() < 0 else 0.\n",
    "#     out = np.clip(out, low_clip, 1.0)\n",
    "#     out = np.uint8(out*255)\n",
    "#     return out\n",
    "\n",
    "# def increase_brightness(img, value):\n",
    "#     hsv = cv2.cvtColor(img, cv2.COLOR_BGR2HSV)\n",
    "#     h, s, v = cv2.split(hsv)\n",
    "#     if value > 0:\n",
    "#         lim = 255 - value\n",
    "#         v[v > lim] = 255\n",
    "#         v[v <= lim] += value\n",
    "#     else:\n",
    "#         v[v + value < 0] = 0\n",
    "#         v[v != 0] -= value*-1\n",
    "#     final_hsv = cv2.merge((h, s, v))\n",
    "#     img = cv2.cvtColor(final_hsv, cv2.COLOR_HSV2BGR)\n",
    "#     return img\n",
    "\n",
    "def resize_img(img, _height):\n",
    "    height, width, channels = img.shape\n",
    "    if height != _height:\n",
    "        ratio = _height / height\n",
    "        img = cv2.resize(img, (0,0), fx=ratio, fy=ratio) \n",
    "    return img\n",
    "\n",
    "def crop_and_resize(img):\n",
    "    height, width, channels = img.shape\n",
    "    crop1 = img[int(height*0.2):, :int(width*0.8), :]\n",
    "    crop2 = img[:int(height*0.8), int(width*0.2):, :]\n",
    "    crop3 = img[int(height*0.2):, int(width*0.2):, :]\n",
    "    crop4 = img[:int(height*0.8), :int(width*0.8), :]\n",
    "    crop1 = resize_img(crop1, height)\n",
    "    crop2 = resize_img(crop2, height)\n",
    "    crop3 = resize_img(crop3, height)\n",
    "    crop4 = resize_img(crop4, height)\n",
    "    return crop1, crop2, crop3, crop4\n",
    "\n",
    "def main():\n",
    "    # flip\n",
    "#     safe = True\n",
    "#     onlyfiles = [f for f in listdir(src_dir) if isfile(join(src_dir, f))]\n",
    "#     for file in onlyfiles:\n",
    "#         if not re.match(r'.*(flip).*', file):\n",
    "#             img = cv2.imread(src_dir + '\\\\' + file)\n",
    "# #             img = resize_img(img)\n",
    "#             # flip\n",
    "#             flip_img = cv2.flip(img, 1)\n",
    "#             cv2.imwrite(src_dir + '\\\\' + file.split('.')[0] + '.jpg', img)\n",
    "#             cv2.imwrite(src_dir + '\\\\' + file.split('.')[0] + '(flip).jpg', flip_img)\n",
    "    # gauss, cropped, etc\n",
    "    onlyfiles = [f for f in listdir(src_dir) if isfile(join(src_dir, f))]\n",
    "    for file in onlyfiles:\n",
    "        if re.match(r'.*\\.(jpg|jpeg)', file, re.I):\n",
    "            img = cv2.imread(src_dir + '\\\\' + file)\n",
    "#             # gauss\n",
    "#             gauss_img = add_gauss_noise(img)\n",
    "#             cv2.imwrite(gauss_dir + '\\\\' + file.split('.')[0] + '(gauss).jpg', gauss_img)\n",
    "#             # bright\n",
    "#             bright_img = increase_brightness(img, 30)\n",
    "#             cv2.imwrite(bright_dir + '\\\\' + file.split('.')[0] + '(bright30).jpg', bright_img)\n",
    "#             # dark\n",
    "#             dark_img = increase_brightness(img, -30)\n",
    "#             cv2.imwrite(dark_dir + '\\\\' + file.split('.')[0] + '(dark30).jpg', dark_img)\n",
    "            # crop\n",
    "            crop_img1, crop_img2, crop_img3, crop_img4 = crop_and_resize(img)\n",
    "            cv2.imwrite(src_dir + '\\\\' + file.split('.')[0] + 'a.jpg', crop_img1)\n",
    "            cv2.imwrite(src_dir + '\\\\' + file.split('.')[0] + 'b.jpg', crop_img2)\n",
    "            cv2.imwrite(src_dir + '\\\\' + file.split('.')[0] + 'c.jpg', crop_img3)\n",
    "            cv2.imwrite(src_dir + '\\\\' + file.split('.')[0] + 'd.jpg', crop_img4)\n",
    "        \n",
    "if __name__ == \"__main__\":\n",
    "    main()"
   ]
  },
  {
   "cell_type": "markdown",
   "metadata": {},
   "source": [
    "### File Rename"
   ]
  },
  {
   "cell_type": "code",
   "execution_count": 9,
   "metadata": {},
   "outputs": [],
   "source": [
    "# -*- coding: UTF-8 -*-\n",
    "import re\n",
    "from os import listdir, rename, remove\n",
    "from os.path import isfile, join\n",
    "\n",
    "i = 1\n",
    "path = 'Images1.0/003'\n",
    "onlyfiles = [f for f in listdir(path) if isfile(join(path, f))]\n",
    "for file in onlyfiles:\n",
    "    if re.match(r'pic1.*', file):\n",
    "        remove(path + '/' + file)"
   ]
  },
  {
   "cell_type": "markdown",
   "metadata": {},
   "source": [
    "### XML processing"
   ]
  },
  {
   "cell_type": "code",
   "execution_count": 4,
   "metadata": {},
   "outputs": [],
   "source": [
    "# -*- coding: UTF-8 -*-\n",
    "import re, os\n",
    "import xml.etree.ElementTree as ET\n",
    "from os import listdir, rename, mkdir\n",
    "from os.path import isfile, join, exists\n",
    "\n",
    "src = 'Images1.4'\n",
    "path = '/SomeDirectory'\n",
    "\n",
    "onlyfiles = [f for f in listdir(src) if isfile(join(src, f))]\n",
    "for file in onlyfiles:\n",
    "    if not re.match(r'.*x\\.xml', file, re.I):\n",
    "        os.remove(src + '/' + file)\n",
    "#         tree = ET.parse(src + '/' + file)\n",
    "#         root = tree.getroot()\n",
    "#         filename = file.split('.xml')[0] + 'x.jpg'\n",
    "#         # root[1] - file name\n",
    "#         root[1].text = filename\n",
    "#         # root[2] - path\n",
    "#         root[2].text = path + '/' + filename\n",
    "#         tree.write(src + '/' + file.split('.xml')[0] + 'x.xml')\n",
    "        "
   ]
  },
  {
   "cell_type": "markdown",
   "metadata": {},
   "source": [
    "### Json to dataset"
   ]
  },
  {
   "cell_type": "code",
   "execution_count": 3,
   "metadata": {},
   "outputs": [],
   "source": [
    "# -*- coding: UTF-8 -*-\n",
    "import base64\n",
    "import json\n",
    "import os, re\n",
    "import os.path as osp\n",
    "\n",
    "import PIL.Image\n",
    "import yaml\n",
    "\n",
    "import utils\n",
    "\n",
    "def draw_mask(filename):\n",
    "    json_file = filename + '.json'\n",
    "\n",
    "    data = json.load(open(json_file))\n",
    "    imageData = data.get('imageData')\n",
    "\n",
    "#     if not imageData:\n",
    "#         imagePath = os.path.join(os.path.dirname(json_file), data['imagePath'])\n",
    "#         with open(imagePath, 'rb') as f:\n",
    "#             imageData = f.read()\n",
    "#             imageData = base64.b64encode(imageData).decode('utf-8')\n",
    "    img = utils.img_b64_to_arr(imageData)\n",
    "\n",
    "    label_name_to_value = {'_background_': 0, 'p': 1, 'c': 2, 't': 3, 'o': 4, 'd':5, 's': 6}\n",
    "    \n",
    "#     for shape in sorted(data['shapes'], key=lambda x: x['label']):\n",
    "#         label_name = shape['label']\n",
    "#         if label_name in label_name_to_value:\n",
    "#             label_value = label_name_to_value[label_name]\n",
    "#         else:\n",
    "#             label_value = len(label_name_to_value)\n",
    "#             label_name_to_value[label_name] = label_value\n",
    "    lbl = utils.shapes_to_label(img.shape, data['shapes'], label_name_to_value)\n",
    "\n",
    "    label_names = [None] * (max(label_name_to_value.values()) + 1)\n",
    "    for name, value in label_name_to_value.items():\n",
    "        label_names[value] = name\n",
    "    lbl_viz = utils.draw_label(lbl, img, label_names)\n",
    "\n",
    "    utils.lblsave(filename + '.png', lbl)\n",
    "\n",
    "\n",
    "if __name__ == '__main__':\n",
    "    path = 'mask_imgs_json/'\n",
    "    onlyfiles = [f for f in os.listdir(path) if osp.isfile(osp.join(path, f))]\n",
    "    for file in onlyfiles:\n",
    "        if not re.match(r'\\..*', file, re.I):\n",
    "            draw_mask(path + file.split('.')[0])"
   ]
  }
 ],
 "metadata": {
  "kernelspec": {
   "display_name": "Python 3",
   "language": "python",
   "name": "python3"
  },
  "language_info": {
   "codemirror_mode": {
    "name": "ipython",
    "version": 3
   },
   "file_extension": ".py",
   "mimetype": "text/x-python",
   "name": "python",
   "nbconvert_exporter": "python",
   "pygments_lexer": "ipython3",
   "version": "3.6.8"
  }
 },
 "nbformat": 4,
 "nbformat_minor": 2
}
